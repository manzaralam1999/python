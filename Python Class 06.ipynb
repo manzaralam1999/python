{
 "cells": [
  {
   "cell_type": "markdown",
   "metadata": {},
   "source": [
    "#  PYthon Class 06"
   ]
  },
  {
   "cell_type": "code",
   "execution_count": 1,
   "metadata": {},
   "outputs": [
    {
     "name": "stdout",
     "output_type": "stream",
     "text": [
      "Elements in our list:\n",
      "1. Add elements\n",
      "2. Delete elements\n",
      "3. Delete all elements\n",
      "4. Exit\n",
      "Note: Please give inputs in numbers e.g, 1, 2, 3, 4\n",
      "Enter your choice 1\n",
      "Enter your elements: breakfast\n",
      "\n",
      "xxxxxxxxxxxxxxxxxxxxxxxxxxxxxxx\n",
      "\n",
      "Elements in our list:\n",
      " -> breakfast\n",
      "1. Add elements\n",
      "2. Delete elements\n",
      "3. Delete all elements\n",
      "4. Exit\n",
      "Note: Please give inputs in numbers e.g, 1, 2, 3, 4\n",
      "Enter your choice 1\n",
      "Enter your elements: lunch\n",
      "\n",
      "xxxxxxxxxxxxxxxxxxxxxxxxxxxxxxx\n",
      "\n",
      "Elements in our list:\n",
      " -> breakfast\n",
      " -> lunch\n",
      "1. Add elements\n",
      "2. Delete elements\n",
      "3. Delete all elements\n",
      "4. Exit\n",
      "Note: Please give inputs in numbers e.g, 1, 2, 3, 4\n",
      "Enter your choice 3\n",
      "\n",
      "xxxxxxxxxxxxxxxxxxxxxxxxxxxxxxx\n",
      "\n",
      "Elements in our list:\n",
      "1. Add elements\n",
      "2. Delete elements\n",
      "3. Delete all elements\n",
      "4. Exit\n",
      "Note: Please give inputs in numbers e.g, 1, 2, 3, 4\n",
      "Enter your choice dinner\n",
      "Invalid Input\n",
      "\n",
      "xxxxxxxxxxxxxxxxxxxxxxxxxxxxxxx\n",
      "\n",
      "Elements in our list:\n",
      "1. Add elements\n",
      "2. Delete elements\n",
      "3. Delete all elements\n",
      "4. Exit\n",
      "Note: Please give inputs in numbers e.g, 1, 2, 3, 4\n",
      "Enter your choice 3\n",
      "\n",
      "xxxxxxxxxxxxxxxxxxxxxxxxxxxxxxx\n",
      "\n",
      "Elements in our list:\n",
      "1. Add elements\n",
      "2. Delete elements\n",
      "3. Delete all elements\n",
      "4. Exit\n",
      "Note: Please give inputs in numbers e.g, 1, 2, 3, 4\n",
      "Enter your choice 4\n"
     ]
    }
   ],
   "source": [
    "#TODO application\n",
    "\n",
    "elements = []\n",
    "\n",
    "while True:\n",
    "    \n",
    "        print(\"Elements in our list:\")\n",
    "        for element in elements:\n",
    "            print(\" -> \" + element)\n",
    "            \n",
    "        print(\"1. Add elements\")\n",
    "        print(\"2. Delete elements\")\n",
    "        print(\"3. Delete all elements\")\n",
    "        print(\"4. Exit\")\n",
    "        print(\"Note: Please give inputs in numbers e.g, 1, 2, 3, 4\")\n",
    "        \n",
    "        inp = input(\"Enter your choice \")\n",
    "        \n",
    "        if inp =='1':\n",
    "            elements.append(input(\"Enter your elements: \"))\n",
    "        elif inp =='2':\n",
    "            elements.remove(input(\"Enter elements to delete: \"))\n",
    "        elif inp =='3':\n",
    "            elements.clear()\n",
    "        elif inp =='4':\n",
    "            break\n",
    "        else:\n",
    "            print(\"Invalid Input\")\n",
    "            \n",
    "        print(\"\\nxxxxxxxxxxxxxxxxxxxxxxxxxxxxxxx\\n\")"
   ]
  },
  {
   "cell_type": "code",
   "execution_count": null,
   "metadata": {},
   "outputs": [],
   "source": []
  }
 ],
 "metadata": {
  "kernelspec": {
   "display_name": "Python 3",
   "language": "python",
   "name": "python3"
  },
  "language_info": {
   "codemirror_mode": {
    "name": "ipython",
    "version": 3
   },
   "file_extension": ".py",
   "mimetype": "text/x-python",
   "name": "python",
   "nbconvert_exporter": "python",
   "pygments_lexer": "ipython3",
   "version": "3.7.4"
  }
 },
 "nbformat": 4,
 "nbformat_minor": 2
}
